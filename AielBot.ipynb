{
 "metadata": {
  "language_info": {
   "codemirror_mode": {
    "name": "ipython",
    "version": 3
   },
   "file_extension": ".py",
   "mimetype": "text/x-python",
   "name": "python",
   "nbconvert_exporter": "python",
   "pygments_lexer": "ipython3",
   "version": "3.7.3"
  },
  "orig_nbformat": 2,
  "kernelspec": {
   "name": "python373jvsc74a57bd0dcac69f5dee19fad97b326175846e45cfef03ceafedda3b158b419f21d5da623",
   "display_name": "Python 3.7.3 32-bit"
  },
  "metadata": {
   "interpreter": {
    "hash": "dcac69f5dee19fad97b326175846e45cfef03ceafedda3b158b419f21d5da623"
   }
  }
 },
 "nbformat": 4,
 "nbformat_minor": 2,
 "cells": [
  {
   "source": [
    "_Character Popularity in the subreddit of Wheel of Time r/WoT_ "
   ],
   "cell_type": "markdown",
   "metadata": {}
  },
  {
   "source": [
    "import praw\n",
    "\n",
    "reddit = praw.Reddit(client_id= \"iNrvdKHtvgVFCg\", client_secret= \"b7uw0X2ecumFMjqc0yT6Zv9vgXYNwQ\",password=\"HeronSword\", user_agent=\"AielBot 1.0\",username=\"Three_Fold_Land\")\n",
    "\n",
    "subreddit = reddit.subreddit(\"WoT\")\n",
    "\n",
    "Character_Tally = {\"Rand\":0,\"Nynaeve\":0,\"Mat\":0,\"Perrin\":0,\"Egwene\":0,\"Moiraine\":0,\"Lan\":0,\"Elayne\":0,\"Aviendha\":0,\"Min\":0}\n",
    "Characters = [\"Rand\",\"Nynaeve\",\"Mat\",\"Perrin\",\"Egwene\",\"Moiraine\",\"Lan\",\"Elayne\",\"Aviendha\",\"Min\"]\n",
    "\n",
    "def character_finder(text):\n",
    "    words = text.split()\n",
    "    for word in Characters:\n",
    "        if word in words:\n",
    "            Character_Tally[word] += 1\n",
    "        else:\n",
    "            Character_Tally[word] = 0\n",
    "\n",
    "\n",
    "\n",
    "\n",
    "\n",
    "for submission in subreddit.hot(limit = 1000):\n",
    "    #print(submission.selftext)\n",
    "    #print(submission.title.split())\n",
    "    for word in submission.title.split():\n",
    "        if word in Characters:\n",
    "           Character_Tally[word] += 1\n",
    "    for word in submission.selftext.split():\n",
    "        if word in Characters:\n",
    "           Character_Tally[word] += 1\n",
    "Character_Tally\n",
    "\n",
    "\n",
    "\n",
    "\n",
    " \n"
   ],
   "cell_type": "code",
   "metadata": {},
   "execution_count": 65,
   "outputs": [
    {
     "output_type": "execute_result",
     "data": {
      "text/plain": [
       "{'Rand': 670,\n",
       " 'Nynaeve': 162,\n",
       " 'Mat': 232,\n",
       " 'Perrin': 213,\n",
       " 'Egwene': 194,\n",
       " 'Moiraine': 108,\n",
       " 'Lan': 85,\n",
       " 'Elayne': 177,\n",
       " 'Aviendha': 47,\n",
       " 'Min': 63}"
      ]
     },
     "metadata": {},
     "execution_count": 65
    }
   ]
  },
  {
   "cell_type": "code",
   "execution_count": 70,
   "metadata": {},
   "outputs": [],
   "source": [
    "import pdb\n",
    "import re\n",
    "import os\n",
    "\n",
    "if not os.path.isfile(\"posts_replied_to.txt\"):\n",
    "    posts_replied_to = []\n",
    "else:\n",
    "    with open(\"posts_replied_to.txt\", \"r\") as f:\n",
    "       posts_replied_to = f.read()\n",
    "       posts_replied_to = posts_replied_to.split(\"\\n\")\n",
    "       posts_replied_to = list(filter(None, posts_replied_to))\n",
    "\n",
    "subreddit = reddit.subreddit('pythonforengineers')\n",
    "for submission in subreddit.hot(limit=5):\n",
    "    if re.search(\"i love python\", submission.title, re.IGNORECASE):\n",
    "        submission.reply(\"Botty bot says: Hello There - General Kenobi\")\n",
    "        print(\"Bot replying to : \", submission.title)\n",
    "        posts_replied_to.append(submission.id)\n",
    "\n",
    "with open(\"posts_replied_to.txt\", \"w\") as f:\n",
    "    for post_id in posts_replied_to:\n",
    "        f.write(post_id + \"\\n\")\n",
    " "
   ]
  },
  {
   "cell_type": "code",
   "execution_count": null,
   "metadata": {},
   "outputs": [],
   "source": []
  }
 ]
}